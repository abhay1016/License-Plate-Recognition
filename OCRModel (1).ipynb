{
  "nbformat": 4,
  "nbformat_minor": 0,
  "metadata": {
    "colab": {
      "provenance": []
    },
    "kernelspec": {
      "name": "python3",
      "display_name": "Python 3"
    },
    "language_info": {
      "name": "python"
    }
  },
  "cells": [
    {
      "cell_type": "markdown",
      "source": [
        "# Deep Learning Model for Character Recognition"
      ],
      "metadata": {
        "id": "MNEM0r1D8WT1"
      }
    },
    {
      "cell_type": "code",
      "execution_count": null,
      "metadata": {
        "id": "8VX0GSy28VYY"
      },
      "outputs": [],
      "source": [
        "# libraries used for the model building\n",
        "\n",
        "import tensorflow as tf\n",
        "from tensorflow.keras.preprocessing.image import ImageDataGenerator\n",
        "from tensorflow.keras.models import Sequential\n",
        "from tensorflow.keras.layers import Dense, Flatten, MaxPooling2D, Dropout, Conv2D\n",
        "from tensorflow.keras import optimizers\n",
        "import datetime\n",
        "import pickle\n",
        "\n",
        "\n",
        "print(tf.__version__)\n",
        "\n",
        "import numpy as np\n",
        "import cv2\n",
        "import matplotlib.pyplot as plt\n",
        "\n"
      ]
    },
    {
      "cell_type": "code",
      "source": [
        "train_datagen = ImageDataGenerator(rescale=1./255, width_shift_range=0.1, height_shift_range=0.1)\n",
        "train_generator = train_datagen.flow_from_directory(\n",
        "        '/content/data/train',  # this is the target directory. It contains the different classes of the characters.\n",
        "        target_size=(28,28),  # all images will be resized to 28x28\n",
        "        batch_size=1,\n",
        "        class_mode='categorical')\n",
        "\n",
        "validation_generator = train_datagen.flow_from_directory(\n",
        "        '/content/data/val',  # this is the target directory\n",
        "        target_size=(28,28),  # all images will be resized to 28x28        batch_size=1,\n",
        "        class_mode='categorical')"
      ],
      "metadata": {
        "id": "m99iFBWd8bbe"
      },
      "execution_count": null,
      "outputs": []
    },
    {
      "cell_type": "code",
      "source": [
        "Folders architecture\n",
        "\n",
        "______ data/train :\n",
        "    _________Class_0:\n",
        "        __________img1.jpg //28*28 pixels\n",
        "        ...\n",
        "        __________imgN.jpg // 28*28 pixels\n",
        "    _________Class_1\n",
        "    ...\n",
        "    _________Class_9\n",
        "    _________Class_TN\n",
        "\n",
        "______ data/test :\n",
        "    _________Class_0\n",
        "    _________Class_1\n",
        "    ...\n",
        "    _________Class_9\n",
        "    _________Class_TN\n"
      ],
      "metadata": {
        "id": "5zE7zjqU8beQ"
      },
      "execution_count": null,
      "outputs": []
    },
    {
      "cell_type": "code",
      "source": [
        "model = Sequential()\n",
        "model.add(Conv2D(32, (24,24), input_shape=(28, 28, 3), activation='relu', padding='same'))\n",
        "model.add(Conv2D(32, (20,20), input_shape=(28, 28, 3), activation='relu', padding='same'))\n",
        "model.add(Conv2D(32, (20,20), input_shape=(28, 28, 3), activation='relu', padding='same'))\n",
        "model.add(MaxPooling2D(pool_size=(2, 2)))\n",
        "model.add(Dropout(0.4))\n",
        "model.add(Flatten())\n",
        "model.add(Dense(128, activation='relu'))\n",
        "model.add(Dense(11, activation='softmax'))\n",
        "\n",
        "model.compile(loss='categorical_crossentropy', optimizer=optimizers.Adam(lr=0.00001), metrics=['accuracy'])"
      ],
      "metadata": {
        "id": "KSa8WwND8bhR"
      },
      "execution_count": null,
      "outputs": []
    },
    {
      "cell_type": "code",
      "source": [
        "class stop_training_callback(tf.keras.callbacks.Callback):\n",
        "  def on_epoch_end(self, epoch, logs={}):\n",
        "    if(logs.get('val_acc') > 0.992):\n",
        "      self.model.stop_training = True"
      ],
      "metadata": {
        "id": "_bnHzr3z8bkN"
      },
      "execution_count": null,
      "outputs": []
    },
    {
      "cell_type": "code",
      "source": [
        "batch_size = 1\n",
        "model.fit_generator(\n",
        "      train_generator,\n",
        "      steps_per_epoch = train_generator.samples // batch_size,\n",
        "      validation_data = validation_generator,\n",
        "      validation_steps = validation_generator.samples // batch_size,\n",
        "      epochs = 80)"
      ],
      "metadata": {
        "id": "8OGDiSTD8bnH"
      },
      "execution_count": null,
      "outputs": []
    },
    {
      "cell_type": "code",
      "source": [
        "#_, accuracy = model.evaluate\n",
        "test_loss, test_acc = model.evaluate(train_generator, validation_generator, verbose=2)\n",
        "\n",
        "print('\\nTest accuracy:', test_acc)"
      ],
      "metadata": {
        "id": "hQiZjlqo8bp9"
      },
      "execution_count": null,
      "outputs": []
    },
    {
      "cell_type": "code",
      "source": [
        "# # save model and architecture to single file\n",
        "model.save(\"ocrmodel.h5\")\n",
        "print(\"Saved model to disk\")"
      ],
      "metadata": {
        "id": "QC6DSrEn8bsw"
      },
      "execution_count": null,
      "outputs": []
    },
    {
      "cell_type": "code",
      "source": [
        "model = tf.keras.models.load_model('ocrmodel.h5')"
      ],
      "metadata": {
        "id": "5TNw8vnY8bvs"
      },
      "execution_count": null,
      "outputs": []
    },
    {
      "cell_type": "code",
      "source": [
        "model.summary()"
      ],
      "metadata": {
        "id": "oHb1CeVg8byf"
      },
      "execution_count": null,
      "outputs": []
    },
    {
      "cell_type": "code",
      "source": [],
      "metadata": {
        "id": "o655GHQf8b18"
      },
      "execution_count": null,
      "outputs": []
    }
  ]
}
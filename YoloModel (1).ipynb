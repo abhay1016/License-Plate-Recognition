{
  "nbformat": 4,
  "nbformat_minor": 0,
  "metadata": {
    "colab": {
      "provenance": []
    },
    "kernelspec": {
      "name": "python3",
      "display_name": "Python 3"
    },
    "language_info": {
      "name": "python"
    }
  },
  "cells": [
    {
      "cell_type": "markdown",
      "source": [
        "# DATA ANNONATIONS"
      ],
      "metadata": {
        "id": "cM6kBv0LAv1O"
      }
    },
    {
      "cell_type": "code",
      "execution_count": null,
      "metadata": {
        "id": "2tY3wLYzAhv_"
      },
      "outputs": [],
      "source": [
        "import pandas as pd\n",
        "import os\n",
        "import cv2\n",
        "from tqdm import tqdm\n",
        "\n",
        "# Load CSV file\n",
        "csv_file = \"Licplatesdetection_train.csv\"\n",
        "df = pd.read_csv(csv_file)\n",
        "\n",
        "# Define paths\n",
        "image_folder = \"Licplatesdetection_train\\license_plates_detection_train\"  # Folder containing car images\n",
        "output_label_folder = \"yolo_labels\"  # Folder to save YOLO labels\n",
        "\n",
        "# Create output folder if not exists\n",
        "os.makedirs(output_label_folder, exist_ok=True)\n",
        "\n",
        "# Process each image\n",
        "for _, row in tqdm(df.iterrows(), total=len(df)):\n",
        "    img_filename = str(row[\"img_id\"])  # Example: \"1.jpg\", \"2.jpg\", etc.\n",
        "    img_path = os.path.join(image_folder, img_filename)  # Full image path\n",
        "\n",
        "    # Read image to get dimensions\n",
        "    image = cv2.imread(img_path)\n",
        "    if image is None:\n",
        "        print(f\"Warning: Image {img_filename} not found!\")\n",
        "        continue  # Skip missing images\n",
        "\n",
        "    h, w, _ = image.shape  # Image height and width\n",
        "\n",
        "    # Read bounding box coordinates\n",
        "    xmin, ymin, xmax, ymax = row[\"xmin\"], row[\"ymin\"], row[\"xmax\"], row[\"ymax\"]\n",
        "\n",
        "    # Convert to YOLO format (normalized values between 0 and 1)\n",
        "    x_center = (xmin + xmax) / (2 * w)\n",
        "    y_center = (ymin + ymax) / (2 * h)\n",
        "    width = (xmax - xmin) / w\n",
        "    height = (ymax - ymin) / h\n",
        "\n",
        "    # Save to YOLO label file (same name as image but with .txt)\n",
        "    label_filename = img_filename.replace(\".jpg\", \".txt\")\n",
        "    label_path = os.path.join(output_label_folder, label_filename)\n",
        "\n",
        "    with open(label_path, \"w\") as f:\n",
        "        f.write(f\"0 {x_center} {y_center} {width} {height}\\n\")  # \"0\" is class_id for license plate\n",
        "\n",
        "print(\"✅ Conversion completed! YOLO labels are saved in:\", output_label_folder)\n"
      ]
    },
    {
      "cell_type": "markdown",
      "source": [
        "# Train -Val Split"
      ],
      "metadata": {
        "id": "FHKeMQAbBdEH"
      }
    },
    {
      "cell_type": "code",
      "source": [
        "import os\n",
        "import shutil\n",
        "import random\n",
        "import pandas as pd\n",
        "\n",
        "# Define paths\n",
        "image_folder = \"Licplatesdetection_train\\license_plates_detection_train\"  # Folder containing car images\n",
        "label_folder = \"yolo_labels\"  # Folder containing YOLO labels\n",
        "\n",
        "output_dir = \"dataset\"\n",
        "train_img_folder = os.path.join(output_dir, \"images/train\")\n",
        "val_img_folder = os.path.join(output_dir, \"images/val\")\n",
        "train_label_folder = os.path.join(output_dir, \"labels/train\")\n",
        "val_label_folder = os.path.join(output_dir, \"labels/val\")\n",
        "\n",
        "# Create output directories if not exist\n",
        "for folder in [train_img_folder, val_img_folder, train_label_folder, val_label_folder]:\n",
        "    os.makedirs(folder, exist_ok=True)\n",
        "\n",
        "# Get all images and shuffle\n",
        "image_files = [f for f in os.listdir(image_folder) if f.endswith(\".jpg\")]\n",
        "random.shuffle(image_files)\n",
        "\n",
        "# Define split ratio\n",
        "split_index = int(0.8 * len(image_files))  # 80% for training\n",
        "\n",
        "train_files = image_files[:split_index]\n",
        "val_files = image_files[split_index:]\n",
        "\n",
        "# Function to move images and labels\n",
        "def move_files(file_list, dest_img_folder, dest_label_folder):\n",
        "    for img_file in file_list:\n",
        "        img_path = os.path.join(image_folder, img_file)\n",
        "        label_path = os.path.join(label_folder, img_file.replace(\".jpg\", \".txt\"))\n",
        "\n",
        "        # Move images\n",
        "        if os.path.exists(img_path):\n",
        "            shutil.move(img_path, os.path.join(dest_img_folder, img_file))\n",
        "\n",
        "        # Move corresponding labels\n",
        "        if os.path.exists(label_path):\n",
        "            shutil.move(label_path, os.path.join(dest_label_folder, img_file.replace(\".jpg\", \".txt\")))\n",
        "\n",
        "# Move files\n",
        "move_files(train_files, train_img_folder, train_label_folder)\n",
        "move_files(val_files, val_img_folder, val_label_folder)\n",
        "\n",
        "print(\"✅ Dataset split completed!\")\n",
        "print(f\"Train set: {len(train_files)} images\")\n",
        "print(f\"Validation set: {len(val_files)} images\")\n"
      ],
      "metadata": {
        "id": "j--bCeVTBbft"
      },
      "execution_count": null,
      "outputs": []
    },
    {
      "cell_type": "code",
      "source": [
        "/dataset\n",
        "    /images\n",
        "        /train  (contains 720 training images)\n",
        "        /val  (contains 180 validation images)\n",
        "    /labels\n",
        "        /train  (contains 720 YOLO annotation files)\n",
        "        /val  (contains 180 YOLO annotation files)\n"
      ],
      "metadata": {
        "id": "BU5Gbg5oAjAC"
      },
      "execution_count": null,
      "outputs": []
    },
    {
      "cell_type": "code",
      "source": [
        "\"data.yaml\"\n",
        "train: /path/to/dataset/images/train\n",
        "val: /path/to/dataset/images/val\n",
        "nc: 1\n",
        "names: [\"license_plate\"]\n"
      ],
      "metadata": {
        "id": "1LTMu4fnAjCv"
      },
      "execution_count": null,
      "outputs": []
    },
    {
      "cell_type": "code",
      "source": [
        "# Install YOLOv5 and dependencies\n",
        "!git clone https://github.com/ultralytics/yolov5.git\n",
        "%cd yolov5\n",
        "!pip install -r requirements.txt\n"
      ],
      "metadata": {
        "id": "BgMfXLmhAjFa"
      },
      "execution_count": null,
      "outputs": []
    },
    {
      "cell_type": "code",
      "source": [
        "/your_dataset_folder\n",
        "  /images\n",
        "    /train\n",
        "    /val\n",
        "  /labels\n",
        "    /train\n",
        "    /val\n",
        "  data.yaml\n"
      ],
      "metadata": {
        "id": "eJWVuqOlCm1t"
      },
      "execution_count": null,
      "outputs": []
    },
    {
      "cell_type": "code",
      "source": [
        "!python train.py --img 640 --batch 16 --epochs 50 --data data.yaml --weights yolov5s.pt\n"
      ],
      "metadata": {
        "id": "8kXRu2p1AjIS"
      },
      "execution_count": null,
      "outputs": []
    },
    {
      "cell_type": "code",
      "source": [
        "!cp runs/train/exp/weights/lapi.pt /content/drive/MyDrive/yolov5_trained.pt\n"
      ],
      "metadata": {
        "id": "FwqC0MojAjLC"
      },
      "execution_count": null,
      "outputs": []
    },
    {
      "cell_type": "code",
      "source": [],
      "metadata": {
        "id": "hok4DT_1AjOC"
      },
      "execution_count": null,
      "outputs": []
    },
    {
      "cell_type": "code",
      "source": [],
      "metadata": {
        "id": "yBM_NnXZAjQt"
      },
      "execution_count": null,
      "outputs": []
    },
    {
      "cell_type": "code",
      "source": [],
      "metadata": {
        "id": "0uphoKGjAjTn"
      },
      "execution_count": null,
      "outputs": []
    },
    {
      "cell_type": "code",
      "source": [],
      "metadata": {
        "id": "ADUqrkiDAjWq"
      },
      "execution_count": null,
      "outputs": []
    },
    {
      "cell_type": "code",
      "source": [],
      "metadata": {
        "id": "-B5_JxbGAjZn"
      },
      "execution_count": null,
      "outputs": []
    },
    {
      "cell_type": "code",
      "source": [],
      "metadata": {
        "id": "LLstQOZfAjch"
      },
      "execution_count": null,
      "outputs": []
    },
    {
      "cell_type": "code",
      "source": [],
      "metadata": {
        "id": "5mlEJ0zIAjfR"
      },
      "execution_count": null,
      "outputs": []
    },
    {
      "cell_type": "code",
      "source": [],
      "metadata": {
        "id": "Jgrbf8z0AjiH"
      },
      "execution_count": null,
      "outputs": []
    },
    {
      "cell_type": "code",
      "source": [],
      "metadata": {
        "id": "lA5OhC7KAjk0"
      },
      "execution_count": null,
      "outputs": []
    },
    {
      "cell_type": "code",
      "source": [],
      "metadata": {
        "id": "tnIPrMYSAjnq"
      },
      "execution_count": null,
      "outputs": []
    },
    {
      "cell_type": "code",
      "source": [],
      "metadata": {
        "id": "VfSPHbcmAjqP"
      },
      "execution_count": null,
      "outputs": []
    },
    {
      "cell_type": "code",
      "source": [],
      "metadata": {
        "id": "q5rcesh-AjtJ"
      },
      "execution_count": null,
      "outputs": []
    },
    {
      "cell_type": "code",
      "source": [],
      "metadata": {
        "id": "Ou9TFw39AjxX"
      },
      "execution_count": null,
      "outputs": []
    }
  ]
}